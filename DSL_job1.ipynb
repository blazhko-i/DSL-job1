{
  "nbformat": 4,
  "nbformat_minor": 0,
  "metadata": {
    "colab": {
      "name": "DSL-job1.ipynb",
      "provenance": [],
      "collapsed_sections": [],
      "authorship_tag": "ABX9TyPdVUCyNq/vZEv+jhJXL9R5",
      "include_colab_link": true
    },
    "kernelspec": {
      "name": "python3",
      "display_name": "Python 3"
    },
    "language_info": {
      "name": "python"
    }
  },
  "cells": [
    {
      "cell_type": "markdown",
      "metadata": {
        "id": "view-in-github",
        "colab_type": "text"
      },
      "source": [
        "<a href=\"https://colab.research.google.com/github/blazhko-i/DSL-job1/blob/master/DSL_job1.ipynb\" target=\"_parent\"><img src=\"https://colab.research.google.com/assets/colab-badge.svg\" alt=\"Open In Colab\"/></a>"
      ]
    },
    {
      "cell_type": "code",
      "metadata": {
        "id": "vCz5yTthAwzG"
      },
      "source": [
        "def get_text():\n",
        "    text_in_file = open('text', 'r')\n",
        "    text = ''\n",
        "    for line in text_in_file:\n",
        "        text += line\n",
        "    return text"
      ],
      "execution_count": null,
      "outputs": []
    },
    {
      "cell_type": "markdown",
      "metadata": {
        "id": "jXXY5JkPCXf7"
      },
      "source": [
        "The function gets text from a file and writes it to a string"
      ]
    },
    {
      "cell_type": "code",
      "metadata": {
        "id": "ZVM1gL2tDENu"
      },
      "source": [
        "def main():\n",
        "    text = get_text()\n",
        "    whitespaces = [' ', '\\n', '\\t']\n",
        "\n",
        "    new_text = []  # This list contains our text without separator characters. Each element of the list\n",
        "    # is equal to the word\n",
        "    buffer = ''  # Temporary variable to store the word\n",
        "    for symbol in text:\n",
        "        if symbol not in whitespaces:\n",
        "            buffer += symbol\n",
        "        else:\n",
        "            if len(buffer) != 0:  # If the text contains 2 spaces, for example\n",
        "                new_text.append(buffer)\n",
        "                buffer = ''  # Remove the current word\n",
        "    new_text.append(buffer)  # Add the last word\n",
        "    print(new_text)"
      ],
      "execution_count": null,
      "outputs": []
    },
    {
      "cell_type": "markdown",
      "metadata": {
        "id": "tX1ABaxODLoD"
      },
      "source": [
        "First, the program call the function 'get_text' and the result assigned to string 'text'.\n",
        ">\n",
        "In the cycle the program iterates characters from the string 'text'.\n",
        "\n",
        "\n",
        "*   If the character doesn't belong to 'whitespaces', therefore the program add this character to 'buffer'.\n",
        "*   Otherwize, the program has a separate word. If it is not null, the program add this word to 'new_text'.\n",
        ">\n",
        "After the cycle the program add the last word to the list and print result.\n"
      ]
    },
    {
      "cell_type": "code",
      "metadata": {
        "id": "TfxrGysTLpKD"
      },
      "source": [
        "main()"
      ],
      "execution_count": null,
      "outputs": []
    },
    {
      "cell_type": "markdown",
      "metadata": {
        "id": "SbgIAGvjLqiS"
      },
      "source": [
        "Call main function"
      ]
    }
  ]
}