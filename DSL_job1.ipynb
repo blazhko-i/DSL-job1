{
  "nbformat": 4,
  "nbformat_minor": 0,
  "metadata": {
    "colab": {
      "name": "DSL-job1.ipynb",
      "provenance": [],
      "collapsed_sections": [],
      "authorship_tag": "ABX9TyPeAm4rAxSQcDxHy2+btDaE",
      "include_colab_link": true
    },
    "kernelspec": {
      "name": "python3",
      "display_name": "Python 3"
    },
    "language_info": {
      "name": "python"
    }
  },
  "cells": [
    {
      "cell_type": "markdown",
      "metadata": {
        "id": "view-in-github",
        "colab_type": "text"
      },
      "source": [
        "<a href=\"https://colab.research.google.com/github/blazhko-i/DSL-job1/blob/master/DSL_job1.ipynb\" target=\"_parent\"><img src=\"https://colab.research.google.com/assets/colab-badge.svg\" alt=\"Open In Colab\"/></a>"
      ]
    },
    {
      "cell_type": "code",
      "metadata": {
        "id": "vCz5yTthAwzG"
      },
      "source": [
        "def get_text():\n",
        "    text_in_file = open('text', 'r')\n",
        "    text = ''\n",
        "    for line in text_in_file:\n",
        "        text += line\n",
        "    return text"
      ],
      "execution_count": null,
      "outputs": []
    },
    {
      "cell_type": "markdown",
      "metadata": {
        "id": "jXXY5JkPCXf7"
      },
      "source": [
        "The function gets text from a file and writes it to a string"
      ]
    },
    {
      "cell_type": "code",
      "metadata": {
        "id": "ZVM1gL2tDENu"
      },
      "source": [
        "def main():"
      ],
      "execution_count": null,
      "outputs": []
    },
    {
      "cell_type": "markdown",
      "metadata": {
        "id": "tX1ABaxODLoD"
      },
      "source": [
        "The main function"
      ]
    },
    {
      "cell_type": "code",
      "metadata": {
        "id": "cJhzzY5oDVhy"
      },
      "source": [
        "    text = get_text()\n"
      ],
      "execution_count": null,
      "outputs": []
    },
    {
      "cell_type": "markdown",
      "metadata": {
        "id": "u_pAnNj1Dp6D"
      },
      "source": [
        "Call the function get_text. Assign function result to variable 'text'."
      ]
    },
    {
      "cell_type": "code",
      "metadata": {
        "id": "l97CY1MvEdkI"
      },
      "source": [
        "whitespaces = [' ', '\\n', '\\t']\n",
        "new_text = []  # This list contains our text without separator characters\n",
        "buffer = 1  # Temporary variable\n",
        "buf = ''  # Temporary variable to store the word"
      ],
      "execution_count": null,
      "outputs": []
    },
    {
      "cell_type": "code",
      "metadata": {
        "id": "ogKt3dyyKVrR"
      },
      "source": [
        "    for symbol in text:\n",
        "        for item in whitespaces:\n",
        "            if symbol == item:\n",
        "                buffer = 0\n",
        "                break\n",
        "        if buffer == 0:\n",
        "            if len(buf) != 0:  # If the text contains 2 spaces for example\n",
        "                new_text.append(buf)\n",
        "                buf = ''  # Remove the current word\n",
        "            buffer = 1\n",
        "            continue\n",
        "        else:\n",
        "            buf += symbol"
      ],
      "execution_count": null,
      "outputs": []
    },
    {
      "cell_type": "markdown",
      "metadata": {
        "id": "gy-WjNkLKYMy"
      },
      "source": [
        "In the first cycle the program iterates symbols from 'text'. In the second one, iterates the elements of 'whitespaces'. If the 'buffer' is equal to 0 therefore the program skips this symbol and changes 'buffer' to 1. Otherwise, the program adds the symbol to 'new_text'"
      ]
    },
    {
      "cell_type": "code",
      "metadata": {
        "id": "l9Gk-qYcLcC_"
      },
      "source": [
        "new_text.append(buf)"
      ],
      "execution_count": null,
      "outputs": []
    },
    {
      "cell_type": "markdown",
      "metadata": {
        "id": "1S2EtGmqLf8X"
      },
      "source": [
        "Add the last word"
      ]
    },
    {
      "cell_type": "code",
      "metadata": {
        "id": "XAEKOiNSLinm"
      },
      "source": [
        "print(new_text)"
      ],
      "execution_count": null,
      "outputs": []
    },
    {
      "cell_type": "markdown",
      "metadata": {
        "id": "SnoIJc7RLk42"
      },
      "source": [
        "Print the result"
      ]
    },
    {
      "cell_type": "code",
      "metadata": {
        "id": "TfxrGysTLpKD"
      },
      "source": [
        "main()"
      ],
      "execution_count": null,
      "outputs": []
    },
    {
      "cell_type": "markdown",
      "metadata": {
        "id": "SbgIAGvjLqiS"
      },
      "source": [
        "Call main function"
      ]
    },
    {
      "cell_type": "markdown",
      "metadata": {
        "id": "qpNJuXDQL9E7"
      },
      "source": [
        ""
      ]
    }
  ]
}