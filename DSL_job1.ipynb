{
  "nbformat": 4,
  "nbformat_minor": 0,
  "metadata": {
    "colab": {
      "name": "DSL-job1.ipynb",
      "provenance": [],
      "collapsed_sections": [],
      "authorship_tag": "ABX9TyNGB6Qg57z9dK9lV+vtiEuM",
      "include_colab_link": true
    },
    "kernelspec": {
      "name": "python3",
      "display_name": "Python 3"
    },
    "language_info": {
      "name": "python"
    }
  },
  "cells": [
    {
      "cell_type": "markdown",
      "metadata": {
        "id": "view-in-github",
        "colab_type": "text"
      },
      "source": [
        "<a href=\"https://colab.research.google.com/github/blazhko-i/DSL-job1/blob/master/DSL_job1.ipynb\" target=\"_parent\"><img src=\"https://colab.research.google.com/assets/colab-badge.svg\" alt=\"Open In Colab\"/></a>"
      ]
    },
    {
      "cell_type": "code",
      "metadata": {
        "id": "vCz5yTthAwzG"
      },
      "source": [
        "def get_text():\n",
        "    text_in_file = open('text', 'r')\n",
        "    text = ''\n",
        "    for line in text_in_file:\n",
        "        text += line\n",
        "    return text"
      ],
      "execution_count": 1,
      "outputs": []
    },
    {
      "cell_type": "markdown",
      "metadata": {
        "id": "jXXY5JkPCXf7"
      },
      "source": [
        "The function gets text from a file and writes it to a string"
      ]
    },
    {
      "cell_type": "code",
      "metadata": {
        "id": "ZVM1gL2tDENu"
      },
      "source": [
        "def main():"
      ],
      "execution_count": null,
      "outputs": []
    },
    {
      "cell_type": "markdown",
      "metadata": {
        "id": "tX1ABaxODLoD"
      },
      "source": [
        "The main function"
      ]
    },
    {
      "cell_type": "code",
      "metadata": {
        "id": "cJhzzY5oDVhy"
      },
      "source": [
        "    text = get_text()\n"
      ],
      "execution_count": null,
      "outputs": []
    },
    {
      "cell_type": "markdown",
      "metadata": {
        "id": "u_pAnNj1Dp6D"
      },
      "source": [
        "Call the function get_text. Assign function result to variable 'text'."
      ]
    },
    {
      "cell_type": "code",
      "metadata": {
        "id": "l97CY1MvEdkI"
      },
      "source": [
        "whitespaces = [' ', '\\n', '\\t']\n",
        "new_text = []  # This list contains our text without separator characters\n",
        "buffer = 1  # Temporary variable\n",
        "buf = ''  # Temporary variable to store the word"
      ],
      "execution_count": null,
      "outputs": []
    }
  ]
}